{
 "cells": [
  {
   "cell_type": "markdown",
   "metadata": {
    "colab_type": "text",
    "id": "u1YDPNtbdHDj"
   },
   "source": [
    "# Probability Distribution\n",
    "\n",
    "## PETE 2061 Lab 6 Workbook \n",
    "\n",
    "## THIS LAB IS DUE BY 10:20 am!!\n",
    "\n",
    "<a id='top'></a>"
   ]
  },
  {
   "cell_type": "markdown",
   "metadata": {
    "colab_type": "text",
    "id": "krWd44XodHDp"
   },
   "source": [
    "<a id='variables'></a>\n",
    "## Volumetric Reserves Estimation\n",
    "The Stock-tank Oil Initially In Place (STOIIP) is the amount of oil that is stored in an oil reservoir. Assuming that the pore spaces in the reservoir are filled with water and oil only, the STOIIP can be estimated using the formula:<br><br>\n",
    "$STOIIP = 7758 Ah\\phi(1-S_{wi})/B_{oi}$ <br><br>\n",
    "where $A$ is the area of the reservoir in acres, <br>\n",
    "$h$ is the reservoir thickness in feet (ft), <br>\n",
    "$S_{wi}$ is the initial water saturation of the reservoir. It is the ratio of the volume of water initially in the reservoir to the total pore volume in the reservoir. It can either be expressed as a fraction or percentage. <br>\n",
    "$B_{oi}$ is the initial oil formation volume factor. It is the ratio of the volume of oil at reservoir conditions (measured in units of reservoir barrels, rb) to the volume of oil at standard conditions (measured in units of stock tank barrels, stb). This means that the unit of $B_{oi}$ is $\\frac{rb}{stb}$ <br>\n",
    "$\\phi$ is the porosity of the reservoir. It is the ratio of the pore volume to the bulk volume, and can be expressed as a fraction or in percentage.<br>\n",
    "7758 is the conversion factor from acre-ft to barrels (bbl or rb) <br><br>\n",
    "\n",
    "All the variables are assumed to be normally distributed with the mean and standard deviation given using the nomenclaturre (mean, std) below:<br>\n",
    "A = (mean=250,std=30)  $\\hspace{22pt}$ # in acres (store this value in a variable called \"area\")<br>\n",
    "h = (50,10) $\\hspace{27pt}$ # in feet (store this value in a variable called \"h\") <br>\n",
    "$\\phi$ = (0.33,0.1) $\\hspace{19pt}$ # fraction (store this value in a variable called \"poro\")<br>\n",
    "$S_{wi}$ = (0.25,0.07) $\\hspace{15pt}$ # fraction (store this value in a variable called \"s_wi\")<br>\n",
    "$B_{oi}$ = (1.1,0.07) $\\hspace{19pt}$ # rb/stb (store this value in a variable called \"b_oi\")<br>"
   ]
  },
  {
   "cell_type": "markdown",
   "metadata": {},
   "source": [
    "1. Using only the mean values given above, write a Python code that calculates and stores the STOIIP value into a variable named \"stoiip\", and then prints this STOIIP value and unit using a formatted print statement."
   ]
  },
  {
   "cell_type": "code",
   "execution_count": 3,
   "metadata": {
    "scrolled": true
   },
   "outputs": [
    {
     "name": "stdout",
     "output_type": "stream",
     "text": [
      "2812.5\n"
     ]
    }
   ],
   "source": [
    "area = 250\n",
    "h = 50\n",
    "poro = .33\n",
    "s_wi = .25\n",
    "b_oi = 1.1\n",
    "\n",
    "STOIIP = area*h*poro*(1-s_wi)/b_oi\n",
    "print(STOIIP)"
   ]
  },
  {
   "cell_type": "markdown",
   "metadata": {},
   "source": [
    "2. Import the numpy, pandas and matplotlit.pyplot libraries"
   ]
  },
  {
   "cell_type": "code",
   "execution_count": 24,
   "metadata": {},
   "outputs": [],
   "source": [
    "import numpy as np\n",
    "import pandas as pd\n",
    "import matplotlib.pyplot as plt\n"
   ]
  },
  {
   "cell_type": "markdown",
   "metadata": {},
   "source": [
    "3. Create a variable named nSamples, and assign it to 10000. <br>\n",
    "4. Using the given mean and std values, generate \"nSamples\" of area, h, poro, s_wi and b_oi. These should all be normally-distributed. Use the appropriate function from np.random library<br>\n",
    "HINT: It is wise to start out by first setting nSamples to 10 and printing out your computations to be sure everything is working as expected. You should then set it to 10000 when you are convinced everything is working as expected."
   ]
  },
  {
   "cell_type": "code",
   "execution_count": 12,
   "metadata": {},
   "outputs": [
    {
     "name": "stdout",
     "output_type": "stream",
     "text": [
      "[246.15993621 231.27467566 238.83164561 ... 257.30368736 244.1661481\n",
      " 241.11927044]\n",
      "[29.89335853 52.23203505 59.17644088 ... 59.33375831 41.46874616\n",
      " 63.67793917]\n",
      "[0.27074201 0.40016938 0.2767848  ... 0.43841121 0.33056646 0.48951754]\n",
      "[0.3122188  0.23143574 0.30535776 ... 0.233017   0.10707556 0.37411286]\n",
      "[1.00358369 1.17995513 1.14934221 ... 1.05135513 1.23511821 1.26615922]\n"
     ]
    }
   ],
   "source": [
    "import numpy as np\n",
    "nSamples = 10000\n",
    "\n",
    "std_area = 10\n",
    "mean_area = 250\n",
    "std_h = 10\n",
    "mean_h = 50\n",
    "std_poro = 0.1\n",
    "mean_poro = .33\n",
    "std_s_wi = 0.07\n",
    "mean_s_wi = 0.25\n",
    "std_b_oi = 0.07\n",
    "mean_b_oi = 1.1\n",
    "\n",
    "area = std_area * np.random.randn(nSamples) + mean_area\n",
    "h = std_h * np.random.randn(nSamples) + mean_h\n",
    "poro = std_poro * np.random.randn(nSamples) + mean_poro\n",
    "s_wi = std_s_wi * np.random.randn(nSamples) + mean_s_wi\n",
    "b_oi = std_b_oi * np.random.randn(nSamples) + mean_b_oi\n",
    "\n",
    "print(area)\n",
    "print(h)\n",
    "print(poro)\n",
    "print(s_wi)\n",
    "print(b_oi)"
   ]
  },
  {
   "cell_type": "markdown",
   "metadata": {},
   "source": [
    "5. Compute the stoiip values corresponding to the nSamples for all the variables computed in 4 above.<br>\n",
    "Hint: Note that all the input variables from (4) above are numpy arrays. So, you should vectorize the calculations, by writing just one line of code to compute the STOIIP. <br>\n",
    "Do not use a for loop. It is slow compared to vectorization.<br>\n",
    "**For 10 points of extra-credit you can use a for loop and time both approaches, then report the the percentage speed-up, but this should be done only after you have completed all the steps in this lab workbook.**"
   ]
  },
  {
   "cell_type": "code",
   "execution_count": 13,
   "metadata": {},
   "outputs": [],
   "source": [
    "STOIIP = area*h*poro*(1-s_wi)/b_oi"
   ]
  },
  {
   "cell_type": "markdown",
   "metadata": {},
   "source": [
    "6. Store the results in a pandas DataFrame with a column name \"STOIIP\". Display the first five rows of the stoiip using the .head() function of the pandas DataFrame object."
   ]
  },
  {
   "cell_type": "code",
   "execution_count": 16,
   "metadata": {},
   "outputs": [
    {
     "data": {
      "text/html": [
       "<div>\n",
       "<style scoped>\n",
       "    .dataframe tbody tr th:only-of-type {\n",
       "        vertical-align: middle;\n",
       "    }\n",
       "\n",
       "    .dataframe tbody tr th {\n",
       "        vertical-align: top;\n",
       "    }\n",
       "\n",
       "    .dataframe thead th {\n",
       "        text-align: right;\n",
       "    }\n",
       "</style>\n",
       "<table border=\"1\" class=\"dataframe\">\n",
       "  <thead>\n",
       "    <tr style=\"text-align: right;\">\n",
       "      <th></th>\n",
       "      <th>STOIIP</th>\n",
       "    </tr>\n",
       "  </thead>\n",
       "  <tbody>\n",
       "    <tr>\n",
       "      <th>0</th>\n",
       "      <td>1365.351382</td>\n",
       "    </tr>\n",
       "    <tr>\n",
       "      <th>1</th>\n",
       "      <td>3148.644078</td>\n",
       "    </tr>\n",
       "    <tr>\n",
       "      <th>2</th>\n",
       "      <td>2364.257531</td>\n",
       "    </tr>\n",
       "    <tr>\n",
       "      <th>3</th>\n",
       "      <td>2651.398148</td>\n",
       "    </tr>\n",
       "    <tr>\n",
       "      <th>4</th>\n",
       "      <td>3444.643637</td>\n",
       "    </tr>\n",
       "  </tbody>\n",
       "</table>\n",
       "</div>"
      ],
      "text/plain": [
       "        STOIIP\n",
       "0  1365.351382\n",
       "1  3148.644078\n",
       "2  2364.257531\n",
       "3  2651.398148\n",
       "4  3444.643637"
      ]
     },
     "execution_count": 16,
     "metadata": {},
     "output_type": "execute_result"
    }
   ],
   "source": [
    "import pandas as pd\n",
    "permDF = pd.DataFrame({'STOIIP':STOIIP})\n",
    "permDF.head()"
   ]
  },
  {
   "cell_type": "markdown",
   "metadata": {},
   "source": [
    "7. Plot the probability density function (pdf) of these 10,000 values of STOIIP"
   ]
  },
  {
   "cell_type": "code",
   "execution_count": 18,
   "metadata": {},
   "outputs": [
    {
     "data": {
      "text/plain": [
       "<matplotlib.axes._subplots.AxesSubplot at 0x1c12f9de7b8>"
      ]
     },
     "execution_count": 18,
     "metadata": {},
     "output_type": "execute_result"
    },
    {
     "data": {
      "image/png": "[encoded data removed]",
      "text/plain": [
       "<Figure size 432x288 with 1 Axes>"
      ]
     },
     "metadata": {
      "needs_background": "light"
     },
     "output_type": "display_data"
    }
   ],
   "source": [
    "permDF['STOIIP'].plot(kind='hist', histtype='step', bins=100, density=True) "
   ]
  },
  {
   "cell_type": "markdown",
   "metadata": {},
   "source": [
    "8. Plot the cumulative distribution function (cdf) of these 10,000 values of STOIIP <br>\n",
    "9. On this cdf plot, use vertical lines to show the $P_10$, $P_50$, and $P_90$ values of the STOIIP."
   ]
  },
  {
   "cell_type": "code",
   "execution_count": 31,
   "metadata": {},
   "outputs": [
    {
     "data": {
      "image/png": "[encoded data removed]",
      "text/plain": [
       "<Figure size 432x288 with 1 Axes>"
      ]
     },
     "metadata": {
      "needs_background": "light"
     },
     "output_type": "display_data"
    }
   ],
   "source": [
    "import scipy.stats as ss\n",
    "import matplotlib.pyplot as plt\n",
    "STOIIP = np.linspace(0, 4000, 10000)\n",
    "y_cdf = ss.norm(2,1).cdf(STOIIP)\n",
    "plt.plot(STOIIP, y_cdf, label='P_1')\n",
    "plt.legend();"
   ]
  },
  {
   "cell_type": "markdown",
   "metadata": {},
   "source": [
    "10. In one line display the 10th, 50th and 90th percentiles of the STOIIP values. <br>\n",
    "Hint: use the quantile function, and pass in a list of the percentiles as a fraction \n",
    "11. In a new markdown cell, type out what the P10, P50 and P90 estimates of the STOIIP are"
   ]
  },
  {
   "cell_type": "code",
   "execution_count": 18,
   "metadata": {},
   "outputs": [
    {
     "data": {
      "text/html": [
       "<div>\n",
       "<style scoped>\n",
       "    .dataframe tbody tr th:only-of-type {\n",
       "        vertical-align: middle;\n",
       "    }\n",
       "\n",
       "    .dataframe tbody tr th {\n",
       "        vertical-align: top;\n",
       "    }\n",
       "\n",
       "    .dataframe thead th {\n",
       "        text-align: right;\n",
       "    }\n",
       "</style>\n",
       "<table border=\"1\" class=\"dataframe\">\n",
       "  <thead>\n",
       "    <tr style=\"text-align: right;\">\n",
       "      <th></th>\n",
       "      <th>STOIIP</th>\n",
       "    </tr>\n",
       "  </thead>\n",
       "  <tbody>\n",
       "    <tr>\n",
       "      <th>0.1</th>\n",
       "      <td>1.142109e+07</td>\n",
       "    </tr>\n",
       "    <tr>\n",
       "      <th>0.5</th>\n",
       "      <td>2.093837e+07</td>\n",
       "    </tr>\n",
       "    <tr>\n",
       "      <th>0.9</th>\n",
       "      <td>3.412754e+07</td>\n",
       "    </tr>\n",
       "  </tbody>\n",
       "</table>\n",
       "</div>"
      ],
      "text/plain": [
       "           STOIIP\n",
       "0.1  1.142109e+07\n",
       "0.5  2.093837e+07\n",
       "0.9  3.412754e+07"
      ]
     },
     "execution_count": 18,
     "metadata": {},
     "output_type": "execute_result"
    }
   ],
   "source": []
  }
 ],
 "metadata": {
  "colab": {
   "collapsed_sections": [
    "sYQs3O-6dHFb",
    "8sIJ4A57dHFk",
    "_73RPOcBdHFn",
    "h9s2tfPcdHFo",
    "zt4YHVYPdHGR"
   ],
   "include_colab_link": true,
   "name": "Copy of intro-python-colab.ipynb",
   "provenance": [],
   "version": "0.3.2"
  },
  "kernelspec": {
   "display_name": "Python 3",
   "language": "python",
   "name": "python3"
  },
  "language_info": {
   "codemirror_mode": {
    "name": "ipython",
    "version": 3
   },
   "file_extension": ".py",
   "mimetype": "text/x-python",
   "name": "python",
   "nbconvert_exporter": "python",
   "pygments_lexer": "ipython3",
   "version": "3.7.3"
  }
 },
 "nbformat": 4,
 "nbformat_minor": 1
}
