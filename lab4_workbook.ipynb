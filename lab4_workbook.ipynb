{
 "cells": [
  {
   "cell_type": "markdown",
   "metadata": {
    "colab_type": "text",
    "id": "u1YDPNtbdHDj"
   },
   "source": [
    "# Control Structures and Data Frames\n",
    "\n",
    "## PETE 2061 Lab 4 Workbook \n",
    "\n",
    "## THIS IS DUE BY 11:59 PM ON SUNDAY (Sept 22, 2019)\n",
    "\n",
    "<a id='top'></a>"
   ]
  },
  {
   "cell_type": "markdown",
   "metadata": {},
   "source": [
    "1. Paste the url (or link) to the pete2061 folder in your github account in the \"marked down\" cell below. <br>"
   ]
  },
  {
   "cell_type": "markdown",
   "metadata": {},
   "source": [
    "https://github.com/fevers1/pete2061"
   ]
  },
  {
   "cell_type": "markdown",
   "metadata": {},
   "source": [
    "2. It is commonly said that one human year is equivalent to 7 dog years. However, this simple conversion fails to recognize that dogs reach adulthood in approximately two years. As a result, some people believe that it is better to count each of the first two human years as 10.5 dog years, and then count each additional human year as 4 dog\n",
    "years. <br>\n",
    "Write a program that implements the conversion from human years to dog years described in the previous paragraph. Ensure that your program works correctly for conversions of less than two human years and for conversions of two or more human years. Your program should generate a random number between 0 and 10, and display an appropriate error message if the user enters a number that is outside this range. <br>\n",
    "Hints: <br>\n",
    "a. Remember that you can generate a random number between 0 and 1 using the function numpy.random.random(1)<br>\n",
    "b. You can scale this random number to go from 0 to 10 by multiplying it by 10<br>\n",
    "c. At this point what you have is a random floating-point number that goes from 0 to 10. You need to convert this floating-point number to an integer using the int() function."
   ]
  },
  {
   "cell_type": "code",
   "execution_count": 41,
   "metadata": {},
   "outputs": [],
   "source": [
    "import numpy as np\n",
    "hy = int(10* np.random.random(1))\n",
    "if hy < 2:\n",
    "        dy = hy* 10.5\n",
    "else: dy = 21 + 4*(hy-2)"
   ]
  },
  {
   "cell_type": "markdown",
   "metadata": {},
   "source": [
    "3. For Students A through J, generate 10 different random numbers between 0 and 100. Create a dataframe to store the student names in the first column (called \"Name\"), and store the scores in the second column called \"Score\".\n",
    "   Print out the mean, standard deviation and maximum of the scores, as well as the index of the student with this maximum score. "
   ]
  },
  {
   "cell_type": "code",
   "execution_count": 3,
   "metadata": {},
   "outputs": [
    {
     "name": "stdout",
     "output_type": "stream",
     "text": [
      "Score    41.171447\n",
      "dtype: float64\n",
      "Score    21.364553\n",
      "dtype: float64\n",
      "['A']\n",
      "<class 'list'>\n"
     ]
    }
   ],
   "source": [
    "import pandas as pd\n",
    "import numpy as np\n",
    "scores = 100*np.random.random(10)\n",
    "myDF = pd.DataFrame({\"Name\": ['A','B','C','D','E','F','G','H','I','J'] , \"Score\":scores})\n",
    "mean = np.mean(myDF)\n",
    "print(mean)\n",
    "sd = np.std(myDF)\n",
    "print(sd)\n",
    "myDF = 'A '.split() \n",
    "print(myDF)\n",
    "print(type(myDF))"
   ]
  },
  {
   "cell_type": "markdown",
   "metadata": {},
   "source": [
    "4. Write a program that begins by reading a score in percentage (%) from the user. Then your program should compute and display the equivalent letter grade. Ensure that your program generates an appropriate error message if the user enters an invalid score.\n",
    "Use the grading scale on your syllabus. These scores are typed in below."
   ]
  },
  {
   "cell_type": "code",
   "execution_count": 55,
   "metadata": {},
   "outputs": [
    {
     "name": "stdout",
     "output_type": "stream",
     "text": [
      "A\n"
     ]
    }
   ],
   "source": [
    "letterGrade = ['A+','A','A-','B+','B','B-','C+','C','C-','D+','D','D-']\n",
    "scores = [97,93,90,87,83,80,77,73,70,67,63,60]\n",
    "scores = 93\n",
    "if scores = 97:\n",
    "    print(\"A+\")\n",
    "if scores = 93:\n",
    "    print(\"A\")\n",
    "if scores = 90:\n",
    "    print(\"A-\")\n",
    "if scores = 88:\n",
    "    print(\"B+\")\n",
    "if scores = 83:\n",
    "    print(\"B\")\n",
    "if scores = 80:\n",
    "    print(\"B-\")\n",
    "if scores = 77:\n",
    "    print(\"C+\")\n",
    "if scores = 73:\n",
    "    print(\"C\")\n",
    "if scores = 70:\n",
    "    print(\"C-\")\n",
    "if scores = 67:\n",
    "    print(\"D+\")\n",
    "if scores = 63:\n",
    "    print(\"D\")\n",
    "if scores = 60:\n",
    "    print(\"D-\")\n",
    "    \n",
    "\n",
    "        "
   ]
  },
  {
   "cell_type": "markdown",
   "metadata": {},
   "source": [
    "5. Write a program that generates 10 random integers, and then prints the largest odd number that was entered. If no odd number was entered it should print a message to that effect. <br>\n",
    "Hints: <br>\n",
    "    a. Use pseudo-code. <br>\n",
    "    b. Generate a random number using the code below:<br>\n",
    "    myRandInt = np.random.randint(low=1, high=20, size=10)<br>\n",
    "    c. Initialize an empty list to contain the odd numbers. Name this list oddInt <br>\n",
    "    d. Within your for loop, you can append odd numbers to this empty list using the append function. eg: <br>\n",
    "    oddInt.append(\"The current odd number from the list should be put in here!\")"
   ]
  },
  {
   "cell_type": "code",
   "execution_count": 7,
   "metadata": {},
   "outputs": [
    {
     "ename": "AttributeError",
     "evalue": "'numpy.int32' object has no attribute 'append'",
     "output_type": "error",
     "traceback": [
      "\u001b[1;31m---------------------------------------------------------------------------\u001b[0m",
      "\u001b[1;31mAttributeError\u001b[0m                            Traceback (most recent call last)",
      "\u001b[1;32m<ipython-input-7-c06ac26d4c25>\u001b[0m in \u001b[0;36m<module>\u001b[1;34m\u001b[0m\n\u001b[0;32m      3\u001b[0m \u001b[0moddInt\u001b[0m \u001b[1;33m=\u001b[0m \u001b[0mlist\u001b[0m\u001b[1;33m(\u001b[0m\u001b[1;33m)\u001b[0m\u001b[1;33m;\u001b[0m\u001b[1;33m\u001b[0m\u001b[1;33m\u001b[0m\u001b[0m\n\u001b[0;32m      4\u001b[0m \u001b[1;32mfor\u001b[0m \u001b[0moddInt\u001b[0m \u001b[1;32min\u001b[0m \u001b[0mmyRandInt\u001b[0m\u001b[1;33m:\u001b[0m\u001b[1;33m\u001b[0m\u001b[1;33m\u001b[0m\u001b[0m\n\u001b[1;32m----> 5\u001b[1;33m     \u001b[0moddInt\u001b[0m\u001b[1;33m.\u001b[0m\u001b[0mappend\u001b[0m\u001b[1;33m(\u001b[0m\u001b[1;36m0\u001b[0m\u001b[1;33m)\u001b[0m\u001b[1;33m\u001b[0m\u001b[1;33m\u001b[0m\u001b[0m\n\u001b[0m",
      "\u001b[1;31mAttributeError\u001b[0m: 'numpy.int32' object has no attribute 'append'"
     ]
    }
   ],
   "source": [
    "import numpy as np\n",
    "myRandInt = np.random.randint(low=1, high=20, size=10)\n",
    "oddInt = list();\n",
    "for oddInt in myRandInt:\n",
    "    oddInt.append(0)"
   ]
  },
  {
   "cell_type": "code",
   "execution_count": null,
   "metadata": {},
   "outputs": [],
   "source": []
  }
 ],
 "metadata": {
  "colab": {
   "collapsed_sections": [
    "sYQs3O-6dHFb",
    "8sIJ4A57dHFk",
    "_73RPOcBdHFn",
    "h9s2tfPcdHFo",
    "zt4YHVYPdHGR"
   ],
   "include_colab_link": true,
   "name": "Copy of intro-python-colab.ipynb",
   "provenance": [],
   "version": "0.3.2"
  },
  "kernelspec": {
   "display_name": "Python 3",
   "language": "python",
   "name": "python3"
  },
  "language_info": {
   "codemirror_mode": {
    "name": "ipython",
    "version": 3
   },
   "file_extension": ".py",
   "mimetype": "text/x-python",
   "name": "python",
   "nbconvert_exporter": "python",
   "pygments_lexer": "ipython3",
   "version": "3.7.3"
  }
 },
 "nbformat": 4,
 "nbformat_minor": 1
}
